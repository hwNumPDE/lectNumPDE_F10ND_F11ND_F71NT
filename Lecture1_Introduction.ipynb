{
 "cells": [
  {
   "cell_type": "markdown",
   "metadata": {},
   "source": [
    "# Lecture 1 and 2: Introduction"
   ]
  },
  {
   "cell_type": "markdown",
   "metadata": {},
   "source": [
    "## Structure of the course\n",
    "\n",
    "This course consists of the following three Sections:\n",
    "\n",
    "1. Parabolic PDEs\n",
    "2. Hyperblic PDEs\n",
    "3. Elliptic PDEs\n",
    "\n",
    "\n",
    "## What is a Partial Differential Equation (PDE)?\n",
    "We give the term/acronym PDE a meaning by the following"
   ]
  },
  {
   "cell_type": "markdown",
   "metadata": {},
   "source": [
    "#### Definition. <em> (Partial Differential Equation)</em>\n",
    "<em>Equations which contain the partial derivatives of a function \n",
    "$ u(x,y)\\,:\\,\\mathbb{R}^2\\to\\mathbb{R}$ are called $\\texttt{Partial Differential Equations}$ (PDEs):</em>\n",
    "\n",
    "$$\n",
    "F\\Bigl(\n",
    "\t\tx,y,u,\\frac{\\partial u}{\\partial x},\\frac{\\partial u}{\\partial y},\\frac{\\partial u}{\\partial x\\partial y}\n",
    "\t\\Bigr)\n",
    "\t= 0\n",
    "\t\\,.\n",
    "$$"
   ]
  },
  {
   "cell_type": "markdown",
   "metadata": {},
   "source": [
    "#### Examples:\n",
    "1. Laplace equation in 1D\n",
    "$$\\Delta u = u_{xx} = 0\\,.$$\n",
    "2. Laplace equation in 2D\n",
    "$$\\Delta u = u_{xx}+u_{yy} = 0\\,.$$\n",
    "3. Heat equation\n",
    "$$u_t-a\\Delta u = f\\,,$$\n",
    "where $a$ is the material's heat conductivity and $f$ is a heat source/sink.\n",
    "4. Linear transport equation in 1D\n",
    "$$u_t+cu_x=0$$\n",
    "5. Wave equation in 1D\n",
    "$$u_{tt}-c^2u_{xx}=0$$"
   ]
  },
  {
   "cell_type": "markdown",
   "metadata": {},
   "source": [
    "## Classification of PDEs"
   ]
  },
  {
   "cell_type": "markdown",
   "metadata": {},
   "source": [
    "#### Definition. <em>(Classification of PDEs)</em>\n",
    "<em> A linear PDE in two variables $(x,y)$ of the form \n",
    "\n",
    "$\n",
    "a(x,y)u_{xx}+2b(x,y)u_{x,y}+c(x,y)u_{yy}+d(x,y)u_x\n",
    "\t+e(x,y)u_y+f(x,y)u=g\\,,\n",
    "$\n",
    "\n",
    "is called \n",
    "\n",
    "i) $\\texttt{elliptic}$ in $(x,y)\\in\\Omega$, if $ac-b^2>0$, \n",
    "\n",
    "ii) $\\texttt{hyperbolic}$ in $ (x,y)\\in\\Omega$, if $ac-b^2<0$,\n",
    "\n",
    "iii) $\\texttt{parabolic}$ in $ (x,y)\\in\\Omega$, if $ac-b^2=0$.\n",
    "\n",
    "The above linear PDE is $\\texttt{elliptic (hyperbolic, parabolic)}$ if it is \n",
    "$\\texttt{elliptic (hyperbolic, parabolic)}$ for all $(x,y)\\in\\Omega$.\n",
    "</em>"
   ]
  },
  {
   "cell_type": "markdown",
   "metadata": {},
   "source": [
    "#### Exercise: <em>(Classify PDEs)</em>\n",
    "Look at the examples 1.-5. above and decide to which class of PDE each example belongs. \n",
    "[Note that the heat equation (Example 3.) is to be considered in one space dimension such that it becomes an equation for the two variables $(t,x)$.]"
   ]
  },
  {
   "cell_type": "markdown",
   "metadata": {},
   "source": [
    "## Finite Difference Method for parabolic PDEs"
   ]
  },
  {
   "cell_type": "markdown",
   "metadata": {
    "collapsed": true
   },
   "source": [
    "Let us discretize both time and space as follows:\n",
    "\n",
    "$$t_n = n \\Delta t,~ n = 0, \\ldots, N-1,$$\n",
    "\n",
    "$$x_j = j \\Delta x,~ j = 0, \\ldots, J-1,$$\n",
    "\n",
    "where $N$ and $J$ are the number of discrete time and space points in our grid respectively.\n",
    "$\\Delta t(=k)$ and $\\Delta x(=h)$ are the time step and space step respectively and defined as follows:\n",
    "\n",
    "$$\\Delta t = T / N,$$\n",
    "\n",
    "$$\\Delta x = L / J,$$\n",
    "\n",
    "where $T$ is the point in time up to which we will integrate $u$ numerically.\n",
    "\n",
    "<!-- PDF and SVG files could not be loaded via a direct download link \n",
    "from Google Drive but PNG files -->\n",
    "\n",
    "![PNG google fdmesh](https://drive.google.com/uc?export=download&id=0B06kMZvjJTVnb21RcFhtLVlFeUE)\n",
    "\n",
    "<!-- Not working PDF and SVG loads:\n",
    "\n",
    "![PDF google fdmesh](https://drive.google.com/uc?export=download&id=0B06kMZvjJTVneV9Yekhsam96dEk)\n",
    "\n",
    "![SVG google fdmesh](https://drive.google.com/uc?export=download&id=0B06kMZvjJTVnNGRuazk0ZnpJb1k)\n",
    "\n",
    "-->"
   ]
  },
  {
   "cell_type": "markdown",
   "metadata": {},
   "source": [
    "Next, we show how to define a grid in Python using Python libraries \n",
    "such as [NumPy](http://www.numpy.org/) \n",
    "and [pyplot](http://matplotlib.org/api/pyplot_api.html)."
   ]
  },
  {
   "cell_type": "code",
   "execution_count": 25,
   "metadata": {
    "collapsed": true
   },
   "outputs": [],
   "source": [
    "import numpy as np\n",
    "from matplotlib import pyplot\n",
    "%matplotlib inline\n",
    "from matplotlib import rcParams\n",
    "rcParams['font.family'] = 'serif'\n",
    "rcParams['font.size'] = 16"
   ]
  },
  {
   "cell_type": "markdown",
   "metadata": {},
   "source": [
    "Physical parameters:"
   ]
  },
  {
   "cell_type": "code",
   "execution_count": 26,
   "metadata": {
    "collapsed": true
   },
   "outputs": [],
   "source": [
    "a=0.3         # diffusion constant"
   ]
  },
  {
   "cell_type": "markdown",
   "metadata": {},
   "source": [
    "#### Specify spatial grid in Python:"
   ]
  },
  {
   "cell_type": "code",
   "execution_count": 27,
   "metadata": {
    "collapsed": false
   },
   "outputs": [],
   "source": [
    "L = 1.                                          # length of domain\n",
    "J = 41                                          # number of grid points\n",
    "dx = float(L)/float(J-1)                        # mesh size h = dx\n",
    "#x_grid = np.array([j*dx for j in range(J)])   # spatial grid points\n",
    "x_grid = np.linspace(0,1.0,J)                    # "
   ]
  },
  {
   "cell_type": "markdown",
   "metadata": {},
   "source": [
    "#### Specify temporal grid in Python:"
   ]
  },
  {
   "cell_type": "code",
   "execution_count": 28,
   "metadata": {
    "collapsed": false
   },
   "outputs": [],
   "source": [
    "T = 1.                                       # length of time\n",
    "N = 20                                       # number of time steps\n",
    "#dt = float(T)/float(N-1)                    # time step size\n",
    "sigma = .4  # stability if a dt/dx <= 1/2  ==>  dt <= dx**2/(2*a)\n",
    "            # hence, sigma < 0.5\n",
    "dt = sigma*dx**2/a                      # stability: dt <= dx**2/(2*a)"
   ]
  },
  {
   "cell_type": "markdown",
   "metadata": {},
   "source": [
    "## Goal: <em>(Compute discrete approximations $U^n_j$)</em>\n",
    "To construct a numerical method, which gives a unique discrete solutions $U^n_j:=U(x_j,t_n)$, that reliably approximates \n",
    "the unknonwn analytic solution $u(x,t)$ solution of the general \n",
    "heat equation\n",
    "\n",
    "$$\n",
    "u_t(x,t) - au_{xx}(x,t) = f(x,t)\n",
    "$$\n",
    "\n",
    "in the discrete grid points $(x_j,t_n)$, $n=0,\\ldots,N-1$, \n",
    "$j=0,\\ldots,J-1$. The function $f(x,t)$ is an external heat \n",
    "source/sink and $a=const.$ the heat conductivity.\n",
    "\n",
    "Mathematically, one is generally interested in quantifying the error \n",
    "pointwise error $u(x_j,t_n) - U^n_j$ or with respect to a suitable \n",
    "norm $\\|\\cdot\\|_e$, i.e.,\n",
    "\n",
    "$$\n",
    "\\| u(x_j,t_n) - U^n_j \\|_e\\,.\n",
    "$$"
   ]
  },
  {
   "cell_type": "markdown",
   "metadata": {},
   "source": [
    "### Step 1: Approximation of the differential operators"
   ]
  },
  {
   "cell_type": "markdown",
   "metadata": {},
   "source": [
    "#### Definition. <em>(Three fundamental finite differences)</em> \n",
    "<em> One defines a\n",
    "\n",
    "(a) <strong>''forward difference''</strong> operator by \n",
    "$$\n",
    "D^+_x U^n_j :=\\frac{F U^n_j}{h} :=\\frac{ U_{j+1}^n - U_j^n}{h}\\,,\n",
    "$$\n",
    "(b) <strong>''backward difference''</strong> operator by \n",
    "$$\n",
    "D_x^-U_j^n := \\frac{B U^n_j}{h} :=\\frac{U_{j}^n-U_{j-1}^n}{h}\\,,\n",
    "$$\n",
    "(c) <strong>''central difference''</strong> operator by\n",
    "$$\n",
    "D_x^0 U_j^n := \\frac{D U^n_j}{{\\color{red} 2}h} :=\\frac{U_{j+1}^n-U_{j-1}^n}{{\\color{red} 2}h}\\,,\n",
    "$$\n",
    "(d) and a <strong>''second central difference''</strong> operator by\n",
    "$$\n",
    "D_x^2 U_j^n := \\frac{D^+_x U_j^n - D^-_x U_j^n}{h} := \\frac{\\delta_{x_j}^2 U^n_j}{{\\color{red} h^2}}\n",
    ":= \\frac{U_{j+1}^n-2U_j^n+U_{j-1}^n}{{\\color{red} h^2}}\\,.\n",
    "$$\n",
    "</em>"
   ]
  },
  {
   "cell_type": "markdown",
   "metadata": {},
   "source": [
    "#### Approximate $u_t$:\n",
    "Applying the forward difference $D^+_t$ to approximate $u_t$ in grid point $(j,n)$, we use the values of $U$ in two specific grid points:\n",
    "\n",
    "$$u_t\\Bigg|_{x = j \\Delta x, t = n \\Delta t}=\\frac{\\partial u}{\\partial t}\\Bigg|_{x = j \\Delta x, t = n \\Delta t} \\approx \n",
    "D^+_t f(t) = \\frac{U_j^{n+1} - U_j^n}{\\Delta t}.$$"
   ]
  },
  {
   "cell_type": "markdown",
   "metadata": {},
   "source": [
    "##### Quantifying approximation $D_t^+ U^n_j$ with exact solution $u(x_j,t_n)$:\n",
    "After applying the Taylor expansion to a funtion $f(t)$ around $t\\in\\mathbb{R}$, i.e., for $k>0$ small it holds that\n",
    "\n",
    "$$\n",
    "f(t+k) = f(t) + f'(t)k + \\frac{1}{2}f''(t)k^2 + \\text{h.o.t.}\\,,\n",
    "$$\n",
    "\n",
    "where $\\text{h.o.t.}$ stands for <em>higher order terms</em>, we can write \n",
    "the forward difference $D_t^+f(t)$ as follows\n",
    "\n",
    "$$\n",
    "D^+_t f(t) \\approx f'(t) + \\frac{1}{2}f''(t)k + {\\cal O}(k^2)\\,.\n",
    "$$\n",
    "\n",
    "Similarly, it holds that \n",
    "\n",
    "$$\n",
    "D^-_t f(t) \\approx f'(t) - \\frac{1}{2}f''(t)k + {\\cal O}(k^2)\\,.\n",
    "$$"
   ]
  },
  {
   "cell_type": "markdown",
   "metadata": {},
   "source": [
    "#### Approximate $u_{xx}$:\n",
    "Applying the second central difference $D^2_x$ to approximate $u_xx$ \n",
    "in grid point $(j,n)$, we use the values of $U$ as follows\n",
    "\n",
    "$$\\frac{\\partial^2 u}{\\partial x^2}\\Bigg|_{x = x_j, t = t_n} \n",
    "\\approx D^2_x U^n_j\n",
    "= \\frac{U_{j+1}^n-2U_j^n+U_{j-1}^n}{{h^2}}\n",
    "$$"
   ]
  },
  {
   "cell_type": "markdown",
   "metadata": {},
   "source": [
    "##### Quantifying approximation $D_x^2 U^n_j$ with exact solution $u(x_j,t_n)$:\n"
   ]
  },
  {
   "cell_type": "markdown",
   "metadata": {},
   "source": [
    "$$\n",
    "D^2_x U^n_j = \\frac{D^+_x U_j^n - D^-_x U_j^n}{h} \n",
    "\\approx \\frac{[u_x(x_j,t_n)+\\frac{1}{2}u_{xx}(x_j,t_n)h+\\ldots] - [u_x(x_j,t_n)-\\frac{1}{2}u_{xx}(x_j,t_n)h+\\ldots]}{h} \n",
    "= u_{xx} + {\\cal O}(h^2)\\,.\n",
    "$$"
   ]
  },
  {
   "cell_type": "markdown",
   "metadata": {},
   "source": [
    "### Step 2: Putting the discrete operators $D_t^+$ and $D^2_x$ together"
   ]
  },
  {
   "cell_type": "markdown",
   "metadata": {},
   "source": [
    "With the discrete differential operators $D_t^+$ and $D^2_x$, \n",
    "the 1D diffusion equation turns into the following numerical scheme:\n",
    "   \n",
    "$$\n",
    "U_{j}^{n+1}=U_{j}^{n}+\\frac{ak}{h^2}(U_{j+1}^{n}-2U_{j}^{n}+U_{j-1}^{n})\n",
    "$$"
   ]
  },
  {
   "cell_type": "markdown",
   "metadata": {},
   "source": [
    "### Step 3: Initial and boundary conditions"
   ]
  },
  {
   "cell_type": "markdown",
   "metadata": {},
   "source": [
    "We choose an initial condition defined as follows,\n",
    "\n",
    "\\begin{equation}\n",
    "u(x,0)=\\begin{cases}2 & \\text{where } 0.125\\leq x \\leq 0.25,\\\\\n",
    "1 & \\text{everywhere else in } (0, 2),\n",
    "\\end{cases}\n",
    "\\end{equation}\n",
    "\n",
    "We set homogeneous Dirichlet boundary conditions, i.e.,\n",
    "\n",
    "$$\n",
    "u(0,t_n)=u(2,t_n) = 1.0\n",
    "$$"
   ]
  },
  {
   "cell_type": "code",
   "execution_count": 29,
   "metadata": {
    "collapsed": false
   },
   "outputs": [],
   "source": [
    "u = np.ones(J)                #numpy function ones()\n",
    "lbound = np.where(x_grid >= 0.125)\n",
    "ubound = np.where(x_grid <= 0.25)"
   ]
  },
  {
   "cell_type": "markdown",
   "metadata": {},
   "source": [
    "That leaves us with two vectors: \n",
    "\n",
    "'lbound', which has the indices for $x\\geq 0.125$  and \n",
    "'ubound', which has the indices for $ x\\leq 0.5$. \n",
    "\n",
    "To combine these two, we can use an intersection with np.intersect1d()."
   ]
  },
  {
   "cell_type": "code",
   "execution_count": 30,
   "metadata": {
    "collapsed": false
   },
   "outputs": [],
   "source": [
    "bounds = np.intersect1d(lbound, ubound)\n",
    "u[bounds]=2  #setting u = 2 between 0.5 and 1 as per our I.C.s\n",
    "\n",
    "u0 = np.ones(J)"
   ]
  },
  {
   "cell_type": "code",
   "execution_count": 31,
   "metadata": {
    "collapsed": false
   },
   "outputs": [
    {
     "data": {
      "image/png": "[encoded data removed]",
      "text/plain": [
       "<matplotlib.figure.Figure at 0x7f1e4971ee50>"
      ]
     },
     "metadata": {},
     "output_type": "display_data"
    }
   ],
   "source": [
    "pyplot.plot(x_grid, u, color='#003366', ls='--', lw=3)\n",
    "pyplot.ylim(0,2.5);"
   ]
  },
  {
   "cell_type": "code",
   "execution_count": 32,
   "metadata": {
    "collapsed": false
   },
   "outputs": [
    {
     "data": {
      "image/png": "[encoded data removed]",
      "text/plain": [
       "<matplotlib.figure.Figure at 0x7f1e499600d0>"
      ]
     },
     "metadata": {},
     "output_type": "display_data"
    }
   ],
   "source": [
    "for n in range(N):  \n",
    "    u0 = u.copy() \n",
    "    u[1:-1] = u0[1:-1] + a*dt/dx**2*(u0[2:] -2*u0[1:-1] +u0[0:-2])\n",
    "\n",
    "    # Set Dirichlet boundary conditions\n",
    "    u[0] = 1;  u[N] = 1\n",
    "\n",
    "    if n%3 == 0:\n",
    "        pyplot.plot(x_grid, u, color='#003366', ls='--', lw=3)\n",
    "        pyplot.ylim(0,2.5);\n",
    "        \n",
    "pyplot.plot(x_grid, u, color='#003366', ls='--', lw=3)\n",
    "pyplot.ylim(0.8,2.2);"
   ]
  },
  {
   "cell_type": "markdown",
   "metadata": {},
   "source": [
    "#### Exercise. \n",
    "Investigate computationally the threshold $\\texttt{sigma}<=0.5$, e.g. \n",
    "\n",
    "(a) what happens for $\\texttt{sigma}=0.5$\n",
    "\n",
    "or \n",
    "\n",
    "(b) for $\\texttt{sigma}>0.5$ ?"
   ]
  },
  {
   "cell_type": "markdown",
   "metadata": {},
   "source": [
    "We will see later in the lecture how to analyse stability and \n",
    "convergence of finite differences schemes."
   ]
  },
  {
   "cell_type": "code",
   "execution_count": null,
   "metadata": {
    "collapsed": true
   },
   "outputs": [],
   "source": []
  }
 ],
 "metadata": {
  "celltoolbar": "Raw Cell Format",
  "kernelspec": {
   "display_name": "Python 2",
   "language": "python",
   "name": "python2"
  },
  "language_info": {
   "codemirror_mode": {
    "name": "ipython",
    "version": 2
   },
   "file_extension": ".py",
   "mimetype": "text/x-python",
   "name": "python",
   "nbconvert_exporter": "python",
   "pygments_lexer": "ipython2",
   "version": "2.7.12"
  }
 },
 "nbformat": 4,
 "nbformat_minor": 1
}
